{
 "cells": [
  {
   "cell_type": "code",
   "execution_count": 1,
   "id": "df95b711",
   "metadata": {},
   "outputs": [],
   "source": [
    "import pandas as pd\n",
    "\n",
    "df=pd.read_csv('quotes.csv',skiprows=1,sep = ';',engine = 'python')"
   ]
  },
  {
   "cell_type": "code",
   "execution_count": 2,
   "id": "ceeb85c1",
   "metadata": {},
   "outputs": [
    {
     "data": {
      "text/html": [
       "<div>\n",
       "<style scoped>\n",
       "    .dataframe tbody tr th:only-of-type {\n",
       "        vertical-align: middle;\n",
       "    }\n",
       "\n",
       "    .dataframe tbody tr th {\n",
       "        vertical-align: top;\n",
       "    }\n",
       "\n",
       "    .dataframe thead th {\n",
       "        text-align: right;\n",
       "    }\n",
       "</style>\n",
       "<table border=\"1\" class=\"dataframe\">\n",
       "  <thead>\n",
       "    <tr style=\"text-align: right;\">\n",
       "      <th></th>\n",
       "      <th>QUOTE</th>\n",
       "      <th>AUTHOR</th>\n",
       "      <th>GENRE</th>\n",
       "    </tr>\n",
       "  </thead>\n",
       "  <tbody>\n",
       "    <tr>\n",
       "      <th>0</th>\n",
       "      <td>Age is an issue of mind over matter. If you do...</td>\n",
       "      <td>Mark Twain</td>\n",
       "      <td>age</td>\n",
       "    </tr>\n",
       "    <tr>\n",
       "      <th>1</th>\n",
       "      <td>Anyone who stops learning is old, whether at t...</td>\n",
       "      <td>Henry Ford</td>\n",
       "      <td>age</td>\n",
       "    </tr>\n",
       "    <tr>\n",
       "      <th>2</th>\n",
       "      <td>Wrinkles should merely indicate where smiles h...</td>\n",
       "      <td>Mark Twain</td>\n",
       "      <td>age</td>\n",
       "    </tr>\n",
       "    <tr>\n",
       "      <th>3</th>\n",
       "      <td>True terror is to wake up one morning and disc...</td>\n",
       "      <td>Kurt Vonnegut</td>\n",
       "      <td>age</td>\n",
       "    </tr>\n",
       "    <tr>\n",
       "      <th>4</th>\n",
       "      <td>A diplomat is a man who always remembers a wom...</td>\n",
       "      <td>Robert Frost</td>\n",
       "      <td>age</td>\n",
       "    </tr>\n",
       "  </tbody>\n",
       "</table>\n",
       "</div>"
      ],
      "text/plain": [
       "                                               QUOTE         AUTHOR GENRE\n",
       "0  Age is an issue of mind over matter. If you do...     Mark Twain   age\n",
       "1  Anyone who stops learning is old, whether at t...     Henry Ford   age\n",
       "2  Wrinkles should merely indicate where smiles h...     Mark Twain   age\n",
       "3  True terror is to wake up one morning and disc...  Kurt Vonnegut   age\n",
       "4  A diplomat is a man who always remembers a wom...   Robert Frost   age"
      ]
     },
     "execution_count": 2,
     "metadata": {},
     "output_type": "execute_result"
    }
   ],
   "source": [
    "df.head()"
   ]
  },
  {
   "cell_type": "code",
   "execution_count": 3,
   "id": "79aed6ba",
   "metadata": {},
   "outputs": [
    {
     "data": {
      "text/plain": [
       "117"
      ]
     },
     "execution_count": 3,
     "metadata": {},
     "output_type": "execute_result"
    }
   ],
   "source": [
    "len(df.GENRE.unique())"
   ]
  },
  {
   "cell_type": "code",
   "execution_count": 4,
   "id": "ab3fd09c",
   "metadata": {},
   "outputs": [
    {
     "data": {
      "text/plain": [
       "array(['age', 'alone', 'amazing', 'anger', 'anniversary', 'architecture',\n",
       "       'art', 'attitude', 'beauty', 'best', 'birthday', 'business', 'car',\n",
       "       'change', 'communication', 'computers', 'cool', 'courage', 'dad',\n",
       "       'dating', 'death', 'design', 'diet', 'dreams', 'education',\n",
       "       'environmental', 'equality', 'experience', 'failure', 'faith',\n",
       "       'family', 'famous', 'fear', 'finance', 'fitness', 'food',\n",
       "       'forgiveness', 'freedom', 'friendship', 'funny', 'future',\n",
       "       'gardening', 'god', 'good', 'government', 'graduation', 'great',\n",
       "       'happiness', 'health', 'history', 'home', 'hope', 'humor',\n",
       "       'imagination', 'inspirational', 'intelligence', 'jealousy',\n",
       "       'knowledge', 'leadership', 'learning', 'legal', 'life', 'love',\n",
       "       'marriage', 'medical', 'men', 'mom', 'money', 'morning',\n",
       "       'motivational', 'movies', 'movingon', 'music', 'nature',\n",
       "       'parenting', 'patience', 'patriotism', 'peace', 'pet', 'poetry',\n",
       "       'politics', 'positive', 'power', 'relationship', 'religion',\n",
       "       'respect', 'romantic', 'sad', 'science', 'smile', 'society',\n",
       "       'sports', 'strength', 'success', 'sympathy', 'teacher',\n",
       "       'technology', 'teen', 'thankful', 'time', 'travel', 'trust',\n",
       "       'truth', 'war', 'wedding', 'wisdom', 'women', 'work', 'christmas',\n",
       "       'easter', 'fathersday', 'memorialday', 'mothersday', 'newyears',\n",
       "       'saintpatricksday', 'thanksgiving', 'valentinesday'], dtype=object)"
      ]
     },
     "execution_count": 4,
     "metadata": {},
     "output_type": "execute_result"
    }
   ],
   "source": [
    "df.GENRE.unique()"
   ]
  },
  {
   "cell_type": "code",
   "execution_count": 4,
   "id": "317a6f47",
   "metadata": {},
   "outputs": [],
   "source": [
    "array = ['amazing', 'beauty', 'best', 'cool', 'courage', 'dreams', 'faith', 'freedom', 'funny', 'good','great',\n",
    "         'happiness','hope', 'humor', 'inspirational', 'motivational', 'peace', 'positive', 'smile','inspirational' \n",
    "         'strength', 'success', 'sympathy', 'thankful', 'wisdom', 'forgiveness', 'patience', 'poetry', 'religion','attitude']\n",
    "data = df.loc[df['GENRE'].isin(array)]"
   ]
  },
  {
   "cell_type": "code",
   "execution_count": 5,
   "id": "02f2eeca",
   "metadata": {},
   "outputs": [
    {
     "name": "stderr",
     "output_type": "stream",
     "text": [
      "C:\\Users\\Neogeo\\AppData\\Local\\Temp\\ipykernel_21964\\202331003.py:1: SettingWithCopyWarning: \n",
      "A value is trying to be set on a copy of a slice from a DataFrame.\n",
      "Try using .loc[row_indexer,col_indexer] = value instead\n",
      "\n",
      "See the caveats in the documentation: https://pandas.pydata.org/pandas-docs/stable/user_guide/indexing.html#returning-a-view-versus-a-copy\n",
      "  data['EMOTION'] = data['GENRE']\n"
     ]
    },
    {
     "data": {
      "text/html": [
       "<div>\n",
       "<style scoped>\n",
       "    .dataframe tbody tr th:only-of-type {\n",
       "        vertical-align: middle;\n",
       "    }\n",
       "\n",
       "    .dataframe tbody tr th {\n",
       "        vertical-align: top;\n",
       "    }\n",
       "\n",
       "    .dataframe thead th {\n",
       "        text-align: right;\n",
       "    }\n",
       "</style>\n",
       "<table border=\"1\" class=\"dataframe\">\n",
       "  <thead>\n",
       "    <tr style=\"text-align: right;\">\n",
       "      <th></th>\n",
       "      <th>QUOTE</th>\n",
       "      <th>AUTHOR</th>\n",
       "      <th>GENRE</th>\n",
       "      <th>EMOTION</th>\n",
       "    </tr>\n",
       "  </thead>\n",
       "  <tbody>\n",
       "    <tr>\n",
       "      <th>1997</th>\n",
       "      <td>Sometimes I think my husband is so amazing tha...</td>\n",
       "      <td>Angelina Jolie</td>\n",
       "      <td>amazing</td>\n",
       "      <td>amazing</td>\n",
       "    </tr>\n",
       "    <tr>\n",
       "      <th>1998</th>\n",
       "      <td>If you tell people where to go, but not how to...</td>\n",
       "      <td>George S. Patton</td>\n",
       "      <td>amazing</td>\n",
       "      <td>amazing</td>\n",
       "    </tr>\n",
       "    <tr>\n",
       "      <th>1999</th>\n",
       "      <td>It is amazing what you can accomplish if you d...</td>\n",
       "      <td>Harry S. Truman</td>\n",
       "      <td>amazing</td>\n",
       "      <td>amazing</td>\n",
       "    </tr>\n",
       "    <tr>\n",
       "      <th>2000</th>\n",
       "      <td>If you set goals and go after them with all th...</td>\n",
       "      <td>Les Brown</td>\n",
       "      <td>amazing</td>\n",
       "      <td>amazing</td>\n",
       "    </tr>\n",
       "    <tr>\n",
       "      <th>2001</th>\n",
       "      <td>Nobody in life gets exactly what they thought ...</td>\n",
       "      <td>Conan O'Brien</td>\n",
       "      <td>amazing</td>\n",
       "      <td>amazing</td>\n",
       "    </tr>\n",
       "    <tr>\n",
       "      <th>...</th>\n",
       "      <td>...</td>\n",
       "      <td>...</td>\n",
       "      <td>...</td>\n",
       "      <td>...</td>\n",
       "    </tr>\n",
       "    <tr>\n",
       "      <th>73423</th>\n",
       "      <td>I actually think with age comes some level of ...</td>\n",
       "      <td>Nina Totenberg</td>\n",
       "      <td>wisdom</td>\n",
       "      <td>wisdom</td>\n",
       "    </tr>\n",
       "    <tr>\n",
       "      <th>73424</th>\n",
       "      <td>This ceremony and the intellectual aura associ...</td>\n",
       "      <td>Stanford Moore</td>\n",
       "      <td>wisdom</td>\n",
       "      <td>wisdom</td>\n",
       "    </tr>\n",
       "    <tr>\n",
       "      <th>73425</th>\n",
       "      <td>Wisdom denotes the pursuing of the best ends b...</td>\n",
       "      <td>Francis Hutcheson</td>\n",
       "      <td>wisdom</td>\n",
       "      <td>wisdom</td>\n",
       "    </tr>\n",
       "    <tr>\n",
       "      <th>73426</th>\n",
       "      <td>A proverb is the wisdom of many and the wit of...</td>\n",
       "      <td>Lord John Russell</td>\n",
       "      <td>wisdom</td>\n",
       "      <td>wisdom</td>\n",
       "    </tr>\n",
       "    <tr>\n",
       "      <th>73427</th>\n",
       "      <td>Yale is a crucible in American life for the ac...</td>\n",
       "      <td>Benno C. Schmidt, Jr.</td>\n",
       "      <td>wisdom</td>\n",
       "      <td>wisdom</td>\n",
       "    </tr>\n",
       "  </tbody>\n",
       "</table>\n",
       "<p>19787 rows × 4 columns</p>\n",
       "</div>"
      ],
      "text/plain": [
       "                                                   QUOTE  \\\n",
       "1997   Sometimes I think my husband is so amazing tha...   \n",
       "1998   If you tell people where to go, but not how to...   \n",
       "1999   It is amazing what you can accomplish if you d...   \n",
       "2000   If you set goals and go after them with all th...   \n",
       "2001   Nobody in life gets exactly what they thought ...   \n",
       "...                                                  ...   \n",
       "73423  I actually think with age comes some level of ...   \n",
       "73424  This ceremony and the intellectual aura associ...   \n",
       "73425  Wisdom denotes the pursuing of the best ends b...   \n",
       "73426  A proverb is the wisdom of many and the wit of...   \n",
       "73427  Yale is a crucible in American life for the ac...   \n",
       "\n",
       "                      AUTHOR    GENRE  EMOTION  \n",
       "1997          Angelina Jolie  amazing  amazing  \n",
       "1998        George S. Patton  amazing  amazing  \n",
       "1999         Harry S. Truman  amazing  amazing  \n",
       "2000               Les Brown  amazing  amazing  \n",
       "2001           Conan O'Brien  amazing  amazing  \n",
       "...                      ...      ...      ...  \n",
       "73423         Nina Totenberg   wisdom   wisdom  \n",
       "73424         Stanford Moore   wisdom   wisdom  \n",
       "73425      Francis Hutcheson   wisdom   wisdom  \n",
       "73426      Lord John Russell   wisdom   wisdom  \n",
       "73427  Benno C. Schmidt, Jr.   wisdom   wisdom  \n",
       "\n",
       "[19787 rows x 4 columns]"
      ]
     },
     "execution_count": 5,
     "metadata": {},
     "output_type": "execute_result"
    }
   ],
   "source": [
    "data['EMOTION'] = data['GENRE']\n",
    "data"
   ]
  },
  {
   "cell_type": "code",
   "execution_count": 11,
   "id": "43151b3c",
   "metadata": {},
   "outputs": [],
   "source": [
    "data.loc[df['GENRE'].isin(['peace','forgiveness', 'wisdom', 'sympathy', 'patience','happiness']), 'EMOTION'] = 0 #angry\n",
    "data.loc[df['GENRE'].isin(['religion','good', 'dreams', 'freedom','hope']), 'EMOTION'] = 1 #afraid\n",
    "data.loc[df['GENRE'].isin(['poetry','strength', 'cool', 'courage']), 'EMOTION'] = 2 #happy\n",
    "data.loc[df['GENRE'].isin(['thankful','amazing', 'positive', 'humor']), 'EMOTION'] = 3 #sad\n",
    "data.loc[df['GENRE'].isin(['attitude','beauty', 'best', 'funny']), 'EMOTION'] = 4 #surprised\n",
    "data.loc[df['GENRE'].isin(['motivational','smile', 'inspirational', 'faith', 'great','success']), 'EMOTION'] = 5 #neutral"
   ]
  },
  {
   "cell_type": "code",
   "execution_count": 12,
   "id": "35a620ea",
   "metadata": {},
   "outputs": [
    {
     "data": {
      "text/html": [
       "<div>\n",
       "<style scoped>\n",
       "    .dataframe tbody tr th:only-of-type {\n",
       "        vertical-align: middle;\n",
       "    }\n",
       "\n",
       "    .dataframe tbody tr th {\n",
       "        vertical-align: top;\n",
       "    }\n",
       "\n",
       "    .dataframe thead th {\n",
       "        text-align: right;\n",
       "    }\n",
       "</style>\n",
       "<table border=\"1\" class=\"dataframe\">\n",
       "  <thead>\n",
       "    <tr style=\"text-align: right;\">\n",
       "      <th></th>\n",
       "      <th>QUOTE</th>\n",
       "      <th>AUTHOR</th>\n",
       "      <th>GENRE</th>\n",
       "      <th>EMOTION</th>\n",
       "    </tr>\n",
       "  </thead>\n",
       "  <tbody>\n",
       "    <tr>\n",
       "      <th>1997</th>\n",
       "      <td>Sometimes I think my husband is so amazing tha...</td>\n",
       "      <td>Angelina Jolie</td>\n",
       "      <td>amazing</td>\n",
       "      <td>3</td>\n",
       "    </tr>\n",
       "    <tr>\n",
       "      <th>1998</th>\n",
       "      <td>If you tell people where to go, but not how to...</td>\n",
       "      <td>George S. Patton</td>\n",
       "      <td>amazing</td>\n",
       "      <td>3</td>\n",
       "    </tr>\n",
       "    <tr>\n",
       "      <th>1999</th>\n",
       "      <td>It is amazing what you can accomplish if you d...</td>\n",
       "      <td>Harry S. Truman</td>\n",
       "      <td>amazing</td>\n",
       "      <td>3</td>\n",
       "    </tr>\n",
       "    <tr>\n",
       "      <th>2000</th>\n",
       "      <td>If you set goals and go after them with all th...</td>\n",
       "      <td>Les Brown</td>\n",
       "      <td>amazing</td>\n",
       "      <td>3</td>\n",
       "    </tr>\n",
       "    <tr>\n",
       "      <th>2001</th>\n",
       "      <td>Nobody in life gets exactly what they thought ...</td>\n",
       "      <td>Conan O'Brien</td>\n",
       "      <td>amazing</td>\n",
       "      <td>3</td>\n",
       "    </tr>\n",
       "    <tr>\n",
       "      <th>...</th>\n",
       "      <td>...</td>\n",
       "      <td>...</td>\n",
       "      <td>...</td>\n",
       "      <td>...</td>\n",
       "    </tr>\n",
       "    <tr>\n",
       "      <th>73423</th>\n",
       "      <td>I actually think with age comes some level of ...</td>\n",
       "      <td>Nina Totenberg</td>\n",
       "      <td>wisdom</td>\n",
       "      <td>0</td>\n",
       "    </tr>\n",
       "    <tr>\n",
       "      <th>73424</th>\n",
       "      <td>This ceremony and the intellectual aura associ...</td>\n",
       "      <td>Stanford Moore</td>\n",
       "      <td>wisdom</td>\n",
       "      <td>0</td>\n",
       "    </tr>\n",
       "    <tr>\n",
       "      <th>73425</th>\n",
       "      <td>Wisdom denotes the pursuing of the best ends b...</td>\n",
       "      <td>Francis Hutcheson</td>\n",
       "      <td>wisdom</td>\n",
       "      <td>0</td>\n",
       "    </tr>\n",
       "    <tr>\n",
       "      <th>73426</th>\n",
       "      <td>A proverb is the wisdom of many and the wit of...</td>\n",
       "      <td>Lord John Russell</td>\n",
       "      <td>wisdom</td>\n",
       "      <td>0</td>\n",
       "    </tr>\n",
       "    <tr>\n",
       "      <th>73427</th>\n",
       "      <td>Yale is a crucible in American life for the ac...</td>\n",
       "      <td>Benno C. Schmidt, Jr.</td>\n",
       "      <td>wisdom</td>\n",
       "      <td>0</td>\n",
       "    </tr>\n",
       "  </tbody>\n",
       "</table>\n",
       "<p>19787 rows × 4 columns</p>\n",
       "</div>"
      ],
      "text/plain": [
       "                                                   QUOTE  \\\n",
       "1997   Sometimes I think my husband is so amazing tha...   \n",
       "1998   If you tell people where to go, but not how to...   \n",
       "1999   It is amazing what you can accomplish if you d...   \n",
       "2000   If you set goals and go after them with all th...   \n",
       "2001   Nobody in life gets exactly what they thought ...   \n",
       "...                                                  ...   \n",
       "73423  I actually think with age comes some level of ...   \n",
       "73424  This ceremony and the intellectual aura associ...   \n",
       "73425  Wisdom denotes the pursuing of the best ends b...   \n",
       "73426  A proverb is the wisdom of many and the wit of...   \n",
       "73427  Yale is a crucible in American life for the ac...   \n",
       "\n",
       "                      AUTHOR    GENRE EMOTION  \n",
       "1997          Angelina Jolie  amazing       3  \n",
       "1998        George S. Patton  amazing       3  \n",
       "1999         Harry S. Truman  amazing       3  \n",
       "2000               Les Brown  amazing       3  \n",
       "2001           Conan O'Brien  amazing       3  \n",
       "...                      ...      ...     ...  \n",
       "73423         Nina Totenberg   wisdom       0  \n",
       "73424         Stanford Moore   wisdom       0  \n",
       "73425      Francis Hutcheson   wisdom       0  \n",
       "73426      Lord John Russell   wisdom       0  \n",
       "73427  Benno C. Schmidt, Jr.   wisdom       0  \n",
       "\n",
       "[19787 rows x 4 columns]"
      ]
     },
     "execution_count": 12,
     "metadata": {},
     "output_type": "execute_result"
    }
   ],
   "source": [
    "data"
   ]
  },
  {
   "cell_type": "code",
   "execution_count": 13,
   "id": "3a966e3e",
   "metadata": {},
   "outputs": [
    {
     "data": {
      "text/plain": [
       "array([3, 4, 2, 1, 5, 0], dtype=object)"
      ]
     },
     "execution_count": 13,
     "metadata": {},
     "output_type": "execute_result"
    }
   ],
   "source": [
    "data.EMOTION.unique()"
   ]
  },
  {
   "cell_type": "code",
   "execution_count": 14,
   "id": "bc94ce85",
   "metadata": {},
   "outputs": [],
   "source": [
    "data.to_csv(\"recomm.csv\",index=False)"
   ]
  }
 ],
 "metadata": {
  "kernelspec": {
   "display_name": "Python 3.9.12 64-bit",
   "language": "python",
   "name": "python3"
  },
  "language_info": {
   "codemirror_mode": {
    "name": "ipython",
    "version": 3
   },
   "file_extension": ".py",
   "mimetype": "text/x-python",
   "name": "python",
   "nbconvert_exporter": "python",
   "pygments_lexer": "ipython3",
   "version": "3.9.12"
  },
  "vscode": {
   "interpreter": {
    "hash": "890e44a325cc3974d3176e56cda98f6c8479f1992ed4c18885e7d66cea0bf8fe"
   }
  }
 },
 "nbformat": 4,
 "nbformat_minor": 5
}
